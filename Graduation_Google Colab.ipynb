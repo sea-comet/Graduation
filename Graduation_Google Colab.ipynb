{
  "cells": [
    {
      "cell_type": "markdown",
      "metadata": {
        "id": "uRs-zOEmN0B0"
      },
      "source": [
        "# 挂载Google Drive 提前放好Traning dataset & Testing dataset"
      ]
    },
    {
      "cell_type": "code",
      "execution_count": 1,
      "metadata": {
        "colab": {
          "base_uri": "https://localhost:8080/"
        },
        "id": "AiGera_ZNyHq",
        "outputId": "7e684f99-8ecb-4423-e84b-792af14f76b6"
      },
      "outputs": [
        {
          "output_type": "stream",
          "name": "stdout",
          "text": [
            "Mounted at /content/drive/\n"
          ]
        }
      ],
      "source": [
        "from google.colab import drive\n",
        "drive.mount('/content/drive/', force_remount=True)"
      ]
    },
    {
      "cell_type": "markdown",
      "metadata": {
        "id": "Q0vP8NWFToSA"
      },
      "source": [
        "# 从GitHub下载, 安装requirements"
      ]
    },
    {
      "cell_type": "code",
      "execution_count": 8,
      "metadata": {
        "colab": {
          "base_uri": "https://localhost:8080/"
        },
        "id": "C9ixVq5yVH88",
        "outputId": "10dbed91-b260-4c6a-d5d1-b224fc7f844b"
      },
      "outputs": [
        {
          "output_type": "stream",
          "name": "stdout",
          "text": [
            "Thu Apr 28 10:19:13 2022       \n",
            "+-----------------------------------------------------------------------------+\n",
            "| NVIDIA-SMI 460.32.03    Driver Version: 460.32.03    CUDA Version: 11.2     |\n",
            "|-------------------------------+----------------------+----------------------+\n",
            "| GPU  Name        Persistence-M| Bus-Id        Disp.A | Volatile Uncorr. ECC |\n",
            "| Fan  Temp  Perf  Pwr:Usage/Cap|         Memory-Usage | GPU-Util  Compute M. |\n",
            "|                               |                      |               MIG M. |\n",
            "|===============================+======================+======================|\n",
            "|   0  Tesla T4            Off  | 00000000:00:04.0 Off |                    0 |\n",
            "| N/A   58C    P8    10W /  70W |      0MiB / 15109MiB |      0%      Default |\n",
            "|                               |                      |                  N/A |\n",
            "+-------------------------------+----------------------+----------------------+\n",
            "                                                                               \n",
            "+-----------------------------------------------------------------------------+\n",
            "| Processes:                                                                  |\n",
            "|  GPU   GI   CI        PID   Type   Process name                  GPU Memory |\n",
            "|        ID   ID                                                   Usage      |\n",
            "|=============================================================================|\n",
            "|  No running processes found                                                 |\n",
            "+-----------------------------------------------------------------------------+\n",
            "/content\n",
            "Cloning into 'Graduation'...\n",
            "remote: Enumerating objects: 262, done.\u001b[K\n",
            "remote: Counting objects: 100% (15/15), done.\u001b[K\n",
            "remote: Compressing objects: 100% (13/13), done.\u001b[K\n",
            "remote: Total 262 (delta 6), reused 2 (delta 2), pack-reused 247\u001b[K\n",
            "Receiving objects: 100% (262/262), 9.39 MiB | 18.39 MiB/s, done.\n",
            "Resolving deltas: 100% (141/141), done.\n",
            "Requirement already satisfied: torch>=1.6.0.dev20200518+cu92 in /usr/local/lib/python3.7/dist-packages (from -r ./Graduation/requirements.txt (line 1)) (1.11.0+cu113)\n",
            "Requirement already satisfied: SimpleITK==1.2.4 in /usr/local/lib/python3.7/dist-packages (from -r ./Graduation/requirements.txt (line 2)) (1.2.4)\n",
            "Requirement already satisfied: numpy>=1.18.4 in /usr/local/lib/python3.7/dist-packages (from -r ./Graduation/requirements.txt (line 3)) (1.21.6)\n",
            "Requirement already satisfied: scikit-learn>=0.23.1 in /usr/local/lib/python3.7/dist-packages (from -r ./Graduation/requirements.txt (line 4)) (1.0.2)\n",
            "Requirement already satisfied: pandas>=1.0.3 in /usr/local/lib/python3.7/dist-packages (from -r ./Graduation/requirements.txt (line 5)) (1.3.5)\n",
            "Requirement already satisfied: PyYAML>=5.3.1 in /usr/local/lib/python3.7/dist-packages (from -r ./Graduation/requirements.txt (line 6)) (6.0)\n",
            "Requirement already satisfied: matplotlib>=3.2.1 in /usr/local/lib/python3.7/dist-packages (from -r ./Graduation/requirements.txt (line 7)) (3.2.2)\n",
            "Requirement already satisfied: scipy>=1.4.1 in /usr/local/lib/python3.7/dist-packages (from -r ./Graduation/requirements.txt (line 8)) (1.4.1)\n",
            "Requirement already satisfied: typing-extensions in /usr/local/lib/python3.7/dist-packages (from torch>=1.6.0.dev20200518+cu92->-r ./Graduation/requirements.txt (line 1)) (4.2.0)\n",
            "Requirement already satisfied: threadpoolctl>=2.0.0 in /usr/local/lib/python3.7/dist-packages (from scikit-learn>=0.23.1->-r ./Graduation/requirements.txt (line 4)) (3.1.0)\n",
            "Requirement already satisfied: joblib>=0.11 in /usr/local/lib/python3.7/dist-packages (from scikit-learn>=0.23.1->-r ./Graduation/requirements.txt (line 4)) (1.1.0)\n",
            "Requirement already satisfied: python-dateutil>=2.7.3 in /usr/local/lib/python3.7/dist-packages (from pandas>=1.0.3->-r ./Graduation/requirements.txt (line 5)) (2.8.2)\n",
            "Requirement already satisfied: pytz>=2017.3 in /usr/local/lib/python3.7/dist-packages (from pandas>=1.0.3->-r ./Graduation/requirements.txt (line 5)) (2022.1)\n",
            "Requirement already satisfied: kiwisolver>=1.0.1 in /usr/local/lib/python3.7/dist-packages (from matplotlib>=3.2.1->-r ./Graduation/requirements.txt (line 7)) (1.4.2)\n",
            "Requirement already satisfied: cycler>=0.10 in /usr/local/lib/python3.7/dist-packages (from matplotlib>=3.2.1->-r ./Graduation/requirements.txt (line 7)) (0.11.0)\n",
            "Requirement already satisfied: pyparsing!=2.0.4,!=2.1.2,!=2.1.6,>=2.0.1 in /usr/local/lib/python3.7/dist-packages (from matplotlib>=3.2.1->-r ./Graduation/requirements.txt (line 7)) (3.0.8)\n",
            "Requirement already satisfied: six>=1.5 in /usr/local/lib/python3.7/dist-packages (from python-dateutil>=2.7.3->pandas>=1.0.3->-r ./Graduation/requirements.txt (line 5)) (1.15.0)\n"
          ]
        }
      ],
      "source": [
        "!nvidia-smi # Test GPU\n",
        "%cd /content\n",
        "!rm -rf \"Graduation\" # 移除之前的文件夹\n",
        "# 我的 Github repository for Graduation project BraTS2020 -- sea_comet\n",
        "!git clone -b master https://github.com/sea-comet/Graduation # 指定分支为master\n",
        "!pip install -r ./Graduation/requirements.txt"
      ]
    },
    {
      "cell_type": "markdown",
      "metadata": {
        "id": "_kF0ndByUYSF"
      },
      "source": [
        "# Training"
      ]
    },
    {
      "cell_type": "code",
      "execution_count": 7,
      "metadata": {
        "colab": {
          "base_uri": "https://localhost:8080/"
        },
        "id": "v6BanTKPT6GJ",
        "outputId": "b47e7deb-f1ae-49d6-e919-1a16dddbec9b"
      },
      "outputs": [
        {
          "output_type": "stream",
          "name": "stdout",
          "text": [
            "/content/Graduation\n",
            "Training device used:  cuda:0\n",
            "Working with 1 GPUs\n",
            "{'arch': 'Atten_Unet',\n",
            " 'batch_size': 1,\n",
            " 'debug': False,\n",
            " 'dropout': 0.0,\n",
            " 'epochs': 150,\n",
            " 'exp_name': '20220428_100712__fold0_Atten_Unet_48_batch1_optimadam_adam_lr0.0001-wd0.0_epochs150_warm3__dropout0.0',\n",
            " 'fold': 0,\n",
            " 'full': False,\n",
            " 'lr': 0.0001,\n",
            " 'norm_layer': 'group',\n",
            " 'optim': 'adam',\n",
            " 'resume': '',\n",
            " 'seed': 16111990,\n",
            " 'start_epoch': 0,\n",
            " 'val': 3,\n",
            " 'warm': 3,\n",
            " 'weight_decay': 0.0,\n",
            " 'width': 48,\n",
            " 'workers': 2}\n",
            "Creating Atten_Unet model...\n",
            "\n",
            "invalid literal for int() with base 10: ''\n",
            "using default group number\n",
            "model features:  [48, 96, 192, 384]\n",
            "total number of trainable parameters 19252068\n",
            "\n",
            "train dataset path : /content/drive/My Drive/Dataset/BraTS2020_TrainingData/MICCAI_BraTS2020_TrainingData\n",
            "\n",
            "Val dataset number of batch: 40\n",
            "Train dataset number of batch: 160\n",
            "start warm-up now! 3 epochs\n",
            "train Epoch: [0][  1/160]\tBatchTime 11.876 (11.876)\tDataTime  9.962 ( 9.962)\tLoss 0.9420 (0.9420)\tAcc 0.0580 (0.0580)\n",
            "train Epoch: [0][  2/160]\tBatchTime  1.655 ( 6.766)\tDataTime  0.003 ( 4.982)\tLoss 0.8846 (0.9133)\tAcc 0.1154 (0.0867)\n",
            "train Epoch: [0][  3/160]\tBatchTime  5.767 ( 6.433)\tDataTime  4.065 ( 4.676)\tLoss 0.9716 (0.9327)\tAcc 0.0284 (0.0673)\n",
            "train Epoch: [0][  4/160]\tBatchTime  1.678 ( 5.244)\tDataTime  0.003 ( 3.508)\tLoss 0.9415 (0.9349)\tAcc 0.0585 (0.0651)\n",
            "train Epoch: [0][  5/160]\tBatchTime  9.400 ( 6.075)\tDataTime  7.624 ( 4.331)\tLoss 0.9041 (0.9288)\tAcc 0.0959 (0.0712)\n",
            "train Epoch: [0][  6/160]\tBatchTime  1.577 ( 5.326)\tDataTime  0.003 ( 3.610)\tLoss 0.9798 (0.9373)\tAcc 0.0202 (0.0627)\n",
            "train Epoch: [0][  7/160]\tBatchTime  7.743 ( 5.671)\tDataTime  5.952 ( 3.945)\tLoss 0.8897 (0.9305)\tAcc 0.1103 (0.0695)\n",
            "train Epoch: [0][  8/160]\tBatchTime  1.790 ( 5.186)\tDataTime  0.211 ( 3.478)\tLoss 0.8909 (0.9255)\tAcc 0.1091 (0.0745)\n",
            "train Epoch: [0][  9/160]\tBatchTime  6.840 ( 5.370)\tDataTime  5.122 ( 3.660)\tLoss 0.9148 (0.9243)\tAcc 0.0852 (0.0757)\n",
            "train Epoch: [0][ 10/160]\tBatchTime  1.597 ( 4.992)\tDataTime  0.012 ( 3.296)\tLoss 0.9760 (0.9295)\tAcc 0.0240 (0.0705)\n",
            "train Epoch: [0][ 11/160]\tBatchTime  8.493 ( 5.310)\tDataTime  6.684 ( 3.604)\tLoss 0.8887 (0.9258)\tAcc 0.1113 (0.0742)\n",
            "train Epoch: [0][ 12/160]\tBatchTime  1.593 ( 5.001)\tDataTime  0.008 ( 3.304)\tLoss 0.9241 (0.9256)\tAcc 0.0759 (0.0744)\n",
            "train Epoch: [0][ 13/160]\tBatchTime  7.132 ( 5.165)\tDataTime  5.372 ( 3.463)\tLoss 0.9568 (0.9280)\tAcc 0.0432 (0.0720)\n",
            "train Epoch: [0][ 14/160]\tBatchTime  2.845 ( 4.999)\tDataTime  1.179 ( 3.300)\tLoss 0.9562 (0.9301)\tAcc 0.0438 (0.0699)\n",
            "train Epoch: [0][ 15/160]\tBatchTime  5.513 ( 5.033)\tDataTime  3.695 ( 3.326)\tLoss 0.8731 (0.9263)\tAcc 0.1269 (0.0737)\n",
            "train Epoch: [0][ 16/160]\tBatchTime  2.778 ( 4.892)\tDataTime  1.056 ( 3.184)\tLoss 0.9159 (0.9256)\tAcc 0.0841 (0.0744)\n",
            "train Epoch: [0][ 17/160]\tBatchTime  7.974 ( 5.074)\tDataTime  6.130 ( 3.358)\tLoss 0.8283 (0.9199)\tAcc 0.1717 (0.0801)\n",
            "train Epoch: [0][ 18/160]\tBatchTime  2.713 ( 4.942)\tDataTime  1.035 ( 3.229)\tLoss 0.9001 (0.9188)\tAcc 0.0999 (0.0812)\n",
            "train Epoch: [0][ 19/160]\tBatchTime  3.689 ( 4.876)\tDataTime  1.878 ( 3.158)\tLoss 0.9911 (0.9226)\tAcc 0.0089 (0.0774)\n",
            "train Epoch: [0][ 20/160]\tBatchTime  6.304 ( 4.948)\tDataTime  4.509 ( 3.225)\tLoss 0.9921 (0.9261)\tAcc 0.0079 (0.0739)\n",
            "train Epoch: [0][ 21/160]\tBatchTime  4.351 ( 4.919)\tDataTime  2.540 ( 3.192)\tLoss 0.8289 (0.9214)\tAcc 0.1711 (0.0786)\n",
            "train Epoch: [0][ 22/160]\tBatchTime  3.966 ( 4.876)\tDataTime  2.163 ( 3.146)\tLoss 0.7893 (0.9154)\tAcc 0.2107 (0.0846)\n",
            "train Epoch: [0][ 23/160]\tBatchTime  4.556 ( 4.862)\tDataTime  2.666 ( 3.125)\tLoss 0.8716 (0.9135)\tAcc 0.1284 (0.0865)\n",
            "train Epoch: [0][ 24/160]\tBatchTime  3.867 ( 4.821)\tDataTime  2.149 ( 3.084)\tLoss 0.9762 (0.9161)\tAcc 0.0238 (0.0839)\n",
            "train Epoch: [0][ 25/160]\tBatchTime  4.821 ( 4.821)\tDataTime  3.069 ( 3.084)\tLoss 0.9620 (0.9180)\tAcc 0.0380 (0.0820)\n",
            "train Epoch: [0][ 26/160]\tBatchTime  4.580 ( 4.811)\tDataTime  2.763 ( 3.071)\tLoss 0.9926 (0.9208)\tAcc 0.0074 (0.0792)\n",
            "train Epoch: [0][ 27/160]\tBatchTime  4.456 ( 4.798)\tDataTime  2.630 ( 3.055)\tLoss 0.9375 (0.9215)\tAcc 0.0625 (0.0785)\n",
            "train Epoch: [0][ 28/160]\tBatchTime  3.004 ( 4.734)\tDataTime  1.305 ( 2.992)\tLoss 0.9259 (0.9216)\tAcc 0.0741 (0.0784)\n",
            "train Epoch: [0][ 29/160]\tBatchTime  6.581 ( 4.798)\tDataTime  4.750 ( 3.053)\tLoss 0.9161 (0.9214)\tAcc 0.0839 (0.0786)\n",
            "train Epoch: [0][ 30/160]\tBatchTime  3.227 ( 4.746)\tDataTime  1.519 ( 3.002)\tLoss 0.8283 (0.9183)\tAcc 0.1717 (0.0817)\n",
            "train Epoch: [0][ 31/160]\tBatchTime  4.781 ( 4.747)\tDataTime  2.991 ( 3.001)\tLoss 0.9173 (0.9183)\tAcc 0.0827 (0.0817)\n",
            "train Epoch: [0][ 32/160]\tBatchTime  3.977 ( 4.723)\tDataTime  2.106 ( 2.973)\tLoss 0.9375 (0.9189)\tAcc 0.0625 (0.0811)\n",
            "train Epoch: [0][ 33/160]\tBatchTime  4.236 ( 4.708)\tDataTime  2.477 ( 2.958)\tLoss 0.8415 (0.9165)\tAcc 0.1585 (0.0835)\n",
            "train Epoch: [0][ 34/160]\tBatchTime  7.152 ( 4.780)\tDataTime  5.417 ( 3.031)\tLoss 0.7575 (0.9119)\tAcc 0.2425 (0.0881)\n",
            "train Epoch: [0][ 35/160]\tBatchTime  3.173 ( 4.734)\tDataTime  1.543 ( 2.988)\tLoss 0.7420 (0.9070)\tAcc 0.2580 (0.0930)\n",
            "train Epoch: [0][ 36/160]\tBatchTime 10.318 ( 4.889)\tDataTime  8.471 ( 3.140)\tLoss 0.7936 (0.9039)\tAcc 0.2064 (0.0961)\n",
            "train Epoch: [0][ 37/160]\tBatchTime  1.648 ( 4.801)\tDataTime  0.008 ( 3.056)\tLoss 0.8543 (0.9025)\tAcc 0.1457 (0.0975)\n",
            "train Epoch: [0][ 38/160]\tBatchTime  6.157 ( 4.837)\tDataTime  4.419 ( 3.092)\tLoss 0.7755 (0.8992)\tAcc 0.2245 (0.1008)\n",
            "train Epoch: [0][ 39/160]\tBatchTime  2.373 ( 4.774)\tDataTime  0.648 ( 3.029)\tLoss 0.9204 (0.8997)\tAcc 0.0796 (0.1003)\n",
            "train Epoch: [0][ 40/160]\tBatchTime 10.093 ( 4.907)\tDataTime  8.316 ( 3.161)\tLoss 0.9083 (0.8999)\tAcc 0.0917 (0.1001)\n",
            "train Epoch: [0][ 41/160]\tBatchTime  1.730 ( 4.829)\tDataTime  0.003 ( 3.084)\tLoss 0.8851 (0.8996)\tAcc 0.1149 (0.1004)\n",
            "train Epoch: [0][ 42/160]\tBatchTime  6.164 ( 4.861)\tDataTime  4.341 ( 3.114)\tLoss 0.6456 (0.8935)\tAcc 0.3544 (0.1065)\n",
            "train Epoch: [0][ 43/160]\tBatchTime  1.727 ( 4.788)\tDataTime  0.003 ( 3.042)\tLoss 0.7853 (0.8910)\tAcc 0.2147 (0.1090)\n",
            "train Epoch: [0][ 44/160]\tBatchTime  7.553 ( 4.851)\tDataTime  5.736 ( 3.103)\tLoss 0.7302 (0.8874)\tAcc 0.2698 (0.1126)\n",
            "train Epoch: [0][ 45/160]\tBatchTime  1.734 ( 4.782)\tDataTime  0.003 ( 3.034)\tLoss 0.7585 (0.8845)\tAcc 0.2415 (0.1155)\n",
            "train Epoch: [0][ 46/160]\tBatchTime  5.594 ( 4.799)\tDataTime  3.752 ( 3.050)\tLoss 0.6401 (0.8792)\tAcc 0.3599 (0.1208)\n",
            "train Epoch: [0][ 47/160]\tBatchTime  1.660 ( 4.733)\tDataTime  0.006 ( 2.985)\tLoss 0.7027 (0.8754)\tAcc 0.2973 (0.1246)\n",
            "train Epoch: [0][ 48/160]\tBatchTime  6.640 ( 4.772)\tDataTime  4.798 ( 3.023)\tLoss 0.7077 (0.8719)\tAcc 0.2923 (0.1281)\n",
            "train Epoch: [0][ 49/160]\tBatchTime  1.780 ( 4.711)\tDataTime  0.004 ( 2.961)\tLoss 0.6732 (0.8679)\tAcc 0.3268 (0.1321)\n",
            "train Epoch: [0][ 50/160]\tBatchTime  5.898 ( 4.735)\tDataTime  4.035 ( 2.983)\tLoss 0.6744 (0.8640)\tAcc 0.3256 (0.1360)\n",
            "train Epoch: [0][ 51/160]\tBatchTime  1.782 ( 4.677)\tDataTime  0.003 ( 2.924)\tLoss 0.7600 (0.8620)\tAcc 0.2400 (0.1380)\n",
            "train Epoch: [0][ 52/160]\tBatchTime  6.949 ( 4.721)\tDataTime  5.088 ( 2.966)\tLoss 0.6023 (0.8570)\tAcc 0.3977 (0.1430)\n",
            "train Epoch: [0][ 53/160]\tBatchTime  1.682 ( 4.664)\tDataTime  0.003 ( 2.910)\tLoss 0.7328 (0.8546)\tAcc 0.2672 (0.1454)\n",
            "train Epoch: [0][ 54/160]\tBatchTime  6.062 ( 4.689)\tDataTime  4.175 ( 2.933)\tLoss 0.6587 (0.8510)\tAcc 0.3413 (0.1490)\n",
            "train Epoch: [0][ 55/160]\tBatchTime  1.744 ( 4.636)\tDataTime  0.003 ( 2.880)\tLoss 0.8886 (0.8517)\tAcc 0.1114 (0.1483)\n",
            "train Epoch: [0][ 56/160]\tBatchTime  7.070 ( 4.679)\tDataTime  5.226 ( 2.922)\tLoss 0.7578 (0.8500)\tAcc 0.2422 (0.1500)\n",
            "train Epoch: [0][ 57/160]\tBatchTime  1.691 ( 4.627)\tDataTime  0.005 ( 2.871)\tLoss 0.6623 (0.8467)\tAcc 0.3377 (0.1533)\n",
            "train Epoch: [0][ 58/160]\tBatchTime  6.994 ( 4.668)\tDataTime  5.142 ( 2.910)\tLoss 0.6327 (0.8430)\tAcc 0.3673 (0.1570)\n",
            "train Epoch: [0][ 59/160]\tBatchTime  1.752 ( 4.618)\tDataTime  0.003 ( 2.861)\tLoss 0.7038 (0.8407)\tAcc 0.2962 (0.1593)\n",
            "train Epoch: [0][ 60/160]\tBatchTime  6.039 ( 4.642)\tDataTime  4.158 ( 2.882)\tLoss 0.5241 (0.8354)\tAcc 0.4759 (0.1646)\n",
            "train Epoch: [0][ 61/160]\tBatchTime  1.761 ( 4.595)\tDataTime  0.003 ( 2.835)\tLoss 0.5456 (0.8306)\tAcc 0.4544 (0.1694)\n",
            "train Epoch: [0][ 62/160]\tBatchTime  6.576 ( 4.627)\tDataTime  4.698 ( 2.865)\tLoss 0.7070 (0.8286)\tAcc 0.2930 (0.1714)\n",
            "train Epoch: [0][ 63/160]\tBatchTime  1.706 ( 4.580)\tDataTime  0.005 ( 2.820)\tLoss 0.8916 (0.8296)\tAcc 0.1084 (0.1704)\n",
            "train Epoch: [0][ 64/160]\tBatchTime  6.652 ( 4.613)\tDataTime  4.772 ( 2.850)\tLoss 0.4653 (0.8240)\tAcc 0.5347 (0.1760)\n",
            "train Epoch: [0][ 65/160]\tBatchTime  1.762 ( 4.569)\tDataTime  0.003 ( 2.806)\tLoss 0.6418 (0.8211)\tAcc 0.3582 (0.1789)\n",
            "train Epoch: [0][ 66/160]\tBatchTime  6.364 ( 4.596)\tDataTime  4.473 ( 2.832)\tLoss 0.5575 (0.8172)\tAcc 0.4425 (0.1828)\n",
            "train Epoch: [0][ 67/160]\tBatchTime  1.799 ( 4.554)\tDataTime  0.005 ( 2.789)\tLoss 0.6413 (0.8145)\tAcc 0.3587 (0.1855)\n",
            "train Epoch: [0][ 68/160]\tBatchTime  6.913 ( 4.589)\tDataTime  5.037 ( 2.822)\tLoss 0.9823 (0.8170)\tAcc 0.0177 (0.1830)\n",
            "train Epoch: [0][ 69/160]\tBatchTime  1.816 ( 4.549)\tDataTime  0.005 ( 2.782)\tLoss 0.7623 (0.8162)\tAcc 0.2377 (0.1838)\n",
            "train Epoch: [0][ 70/160]\tBatchTime  6.550 ( 4.577)\tDataTime  4.655 ( 2.808)\tLoss 0.5190 (0.8120)\tAcc 0.4810 (0.1880)\n",
            "train Epoch: [0][ 71/160]\tBatchTime  1.821 ( 4.539)\tDataTime  0.005 ( 2.769)\tLoss 0.6223 (0.8093)\tAcc 0.3777 (0.1907)\n",
            "train Epoch: [0][ 72/160]\tBatchTime  6.764 ( 4.569)\tDataTime  4.900 ( 2.799)\tLoss 0.5420 (0.8056)\tAcc 0.4580 (0.1944)\n",
            "train Epoch: [0][ 73/160]\tBatchTime  1.823 ( 4.532)\tDataTime  0.005 ( 2.760)\tLoss 0.9302 (0.8073)\tAcc 0.0698 (0.1927)\n",
            "train Epoch: [0][ 74/160]\tBatchTime  8.337 ( 4.583)\tDataTime  6.459 ( 2.810)\tLoss 0.5993 (0.8045)\tAcc 0.4007 (0.1955)\n",
            "train Epoch: [0][ 75/160]\tBatchTime  1.762 ( 4.546)\tDataTime  0.003 ( 2.773)\tLoss 0.6076 (0.8018)\tAcc 0.3924 (0.1982)\n",
            "train Epoch: [0][ 76/160]\tBatchTime  5.116 ( 4.553)\tDataTime  3.163 ( 2.778)\tLoss 0.5923 (0.7991)\tAcc 0.4077 (0.2009)\n",
            "train Epoch: [0][ 77/160]\tBatchTime  1.826 ( 4.518)\tDataTime  0.005 ( 2.742)\tLoss 0.4677 (0.7948)\tAcc 0.5323 (0.2052)\n",
            "train Epoch: [0][ 78/160]\tBatchTime  6.109 ( 4.538)\tDataTime  4.169 ( 2.760)\tLoss 0.5629 (0.7918)\tAcc 0.4371 (0.2082)\n",
            "train Epoch: [0][ 79/160]\tBatchTime  1.818 ( 4.504)\tDataTime  0.005 ( 2.725)\tLoss 0.5021 (0.7881)\tAcc 0.4979 (0.2119)\n",
            "train Epoch: [0][ 80/160]\tBatchTime  5.041 ( 4.510)\tDataTime  3.252 ( 2.732)\tLoss 0.5853 (0.7856)\tAcc 0.4147 (0.2144)\n",
            "train Epoch: [0][ 81/160]\tBatchTime  1.819 ( 4.477)\tDataTime  0.005 ( 2.698)\tLoss 0.6278 (0.7837)\tAcc 0.3722 (0.2163)\n",
            "train Epoch: [0][ 82/160]\tBatchTime  7.172 ( 4.510)\tDataTime  5.213 ( 2.729)\tLoss 0.8387 (0.7843)\tAcc 0.1613 (0.2157)\n",
            "train Epoch: [0][ 83/160]\tBatchTime  1.776 ( 4.477)\tDataTime  0.003 ( 2.696)\tLoss 0.4429 (0.7802)\tAcc 0.5571 (0.2198)\n",
            "train Epoch: [0][ 84/160]\tBatchTime  1.789 ( 4.445)\tDataTime  0.015 ( 2.664)\tLoss 0.5762 (0.7778)\tAcc 0.4238 (0.2222)\n",
            "train Epoch: [0][ 85/160]\tBatchTime  1.790 ( 4.414)\tDataTime  0.009 ( 2.633)\tLoss 0.4284 (0.7737)\tAcc 0.5716 (0.2263)\n",
            "train Epoch: [0][ 86/160]\tBatchTime  5.985 ( 4.432)\tDataTime  4.081 ( 2.650)\tLoss 0.7305 (0.7732)\tAcc 0.2695 (0.2268)\n",
            "train Epoch: [0][ 87/160]\tBatchTime  1.838 ( 4.402)\tDataTime  0.004 ( 2.619)\tLoss 0.7583 (0.7730)\tAcc 0.2417 (0.2270)\n",
            "train Epoch: [0][ 88/160]\tBatchTime  6.807 ( 4.430)\tDataTime  4.899 ( 2.645)\tLoss 0.6848 (0.7720)\tAcc 0.3152 (0.2280)\n",
            "train Epoch: [0][ 89/160]\tBatchTime  1.707 ( 4.399)\tDataTime  0.003 ( 2.616)\tLoss 0.5931 (0.7700)\tAcc 0.4069 (0.2300)\n",
            "train Epoch: [0][ 90/160]\tBatchTime  9.163 ( 4.452)\tDataTime  7.246 ( 2.667)\tLoss 0.7311 (0.7696)\tAcc 0.2689 (0.2304)\n",
            "train Epoch: [0][ 91/160]\tBatchTime  1.789 ( 4.423)\tDataTime  0.004 ( 2.638)\tLoss 0.5377 (0.7670)\tAcc 0.4623 (0.2330)\n",
            "train Epoch: [0][ 92/160]\tBatchTime  5.545 ( 4.435)\tDataTime  3.657 ( 2.649)\tLoss 0.4268 (0.7633)\tAcc 0.5732 (0.2367)\n",
            "train Epoch: [0][ 93/160]\tBatchTime  1.702 ( 4.406)\tDataTime  0.005 ( 2.620)\tLoss 0.4370 (0.7598)\tAcc 0.5630 (0.2402)\n",
            "train Epoch: [0][ 94/160]\tBatchTime  5.294 ( 4.415)\tDataTime  3.395 ( 2.629)\tLoss 0.5991 (0.7581)\tAcc 0.4009 (0.2419)\n",
            "train Epoch: [0][ 95/160]\tBatchTime  1.844 ( 4.388)\tDataTime  0.015 ( 2.601)\tLoss 0.5451 (0.7559)\tAcc 0.4549 (0.2441)\n",
            "train Epoch: [0][ 96/160]\tBatchTime  6.230 ( 4.407)\tDataTime  4.334 ( 2.619)\tLoss 0.5167 (0.7534)\tAcc 0.4833 (0.2466)\n",
            "train Epoch: [0][ 97/160]\tBatchTime  1.785 ( 4.380)\tDataTime  0.003 ( 2.592)\tLoss 0.5176 (0.7509)\tAcc 0.4824 (0.2491)\n",
            "train Epoch: [0][ 98/160]\tBatchTime  7.546 ( 4.412)\tDataTime  5.638 ( 2.623)\tLoss 0.5990 (0.7494)\tAcc 0.4010 (0.2506)\n",
            "train Epoch: [0][ 99/160]\tBatchTime  1.798 ( 4.386)\tDataTime  0.003 ( 2.597)\tLoss 0.5984 (0.7479)\tAcc 0.4016 (0.2521)\n",
            "train Epoch: [0][100/160]\tBatchTime  8.490 ( 4.427)\tDataTime  6.596 ( 2.637)\tLoss 0.6271 (0.7466)\tAcc 0.3729 (0.2534)\n",
            "train Epoch: [0][101/160]\tBatchTime  1.823 ( 4.401)\tDataTime  0.006 ( 2.611)\tLoss 0.4834 (0.7440)\tAcc 0.5166 (0.2560)\n",
            "train Epoch: [0][102/160]\tBatchTime  7.963 ( 4.436)\tDataTime  6.043 ( 2.644)\tLoss 0.4261 (0.7409)\tAcc 0.5739 (0.2591)\n",
            "train Epoch: [0][103/160]\tBatchTime  1.709 ( 4.410)\tDataTime  0.003 ( 2.619)\tLoss 0.5898 (0.7395)\tAcc 0.4102 (0.2605)\n",
            "train Epoch: [0][104/160]\tBatchTime  7.147 ( 4.436)\tDataTime  5.254 ( 2.644)\tLoss 0.6271 (0.7384)\tAcc 0.3729 (0.2616)\n",
            "train Epoch: [0][105/160]\tBatchTime  1.713 ( 4.410)\tDataTime  0.003 ( 2.619)\tLoss 0.5754 (0.7368)\tAcc 0.4246 (0.2632)\n",
            "train Epoch: [0][106/160]\tBatchTime  6.815 ( 4.433)\tDataTime  4.866 ( 2.640)\tLoss 0.5782 (0.7353)\tAcc 0.4218 (0.2647)\n",
            "train Epoch: [0][107/160]\tBatchTime  1.819 ( 4.408)\tDataTime  0.003 ( 2.616)\tLoss 0.4729 (0.7329)\tAcc 0.5271 (0.2671)\n",
            "train Epoch: [0][108/160]\tBatchTime  6.451 ( 4.427)\tDataTime  4.539 ( 2.633)\tLoss 0.5645 (0.7313)\tAcc 0.4355 (0.2687)\n",
            "train Epoch: [0][109/160]\tBatchTime  1.802 ( 4.403)\tDataTime  0.005 ( 2.609)\tLoss 0.6886 (0.7309)\tAcc 0.3114 (0.2691)\n",
            "train Epoch: [0][110/160]\tBatchTime  6.874 ( 4.426)\tDataTime  4.987 ( 2.631)\tLoss 0.4138 (0.7280)\tAcc 0.5862 (0.2720)\n",
            "train Epoch: [0][111/160]\tBatchTime  1.713 ( 4.401)\tDataTime  0.003 ( 2.607)\tLoss 0.4237 (0.7253)\tAcc 0.5763 (0.2747)\n",
            "train Epoch: [0][112/160]\tBatchTime  6.081 ( 4.416)\tDataTime  4.183 ( 2.621)\tLoss 0.7562 (0.7256)\tAcc 0.2438 (0.2744)\n",
            "train Epoch: [0][113/160]\tBatchTime  1.784 ( 4.393)\tDataTime  0.003 ( 2.598)\tLoss 0.5439 (0.7240)\tAcc 0.4561 (0.2760)\n",
            "train Epoch: [0][114/160]\tBatchTime  5.820 ( 4.405)\tDataTime  3.898 ( 2.609)\tLoss 0.6822 (0.7236)\tAcc 0.3178 (0.2764)\n",
            "train Epoch: [0][115/160]\tBatchTime  1.748 ( 4.382)\tDataTime  0.003 ( 2.587)\tLoss 0.6102 (0.7226)\tAcc 0.3898 (0.2774)\n",
            "train Epoch: [0][116/160]\tBatchTime  6.277 ( 4.399)\tDataTime  4.348 ( 2.602)\tLoss 0.6406 (0.7219)\tAcc 0.3594 (0.2781)\n",
            "train Epoch: [0][117/160]\tBatchTime  1.803 ( 4.376)\tDataTime  0.003 ( 2.580)\tLoss 0.7129 (0.7218)\tAcc 0.2871 (0.2782)\n",
            "train Epoch: [0][118/160]\tBatchTime  7.824 ( 4.406)\tDataTime  5.908 ( 2.608)\tLoss 0.6021 (0.7208)\tAcc 0.3979 (0.2792)\n",
            "train Epoch: [0][119/160]\tBatchTime  1.718 ( 4.383)\tDataTime  0.004 ( 2.586)\tLoss 0.4242 (0.7183)\tAcc 0.5758 (0.2817)\n",
            "train Epoch: [0][120/160]\tBatchTime  6.548 ( 4.401)\tDataTime  4.693 ( 2.604)\tLoss 0.4666 (0.7162)\tAcc 0.5334 (0.2838)\n",
            "train Epoch: [0][121/160]\tBatchTime  1.807 ( 4.380)\tDataTime  0.005 ( 2.582)\tLoss 0.5470 (0.7148)\tAcc 0.4530 (0.2852)\n",
            "train Epoch: [0][122/160]\tBatchTime  5.884 ( 4.392)\tDataTime  3.999 ( 2.594)\tLoss 0.4878 (0.7130)\tAcc 0.5122 (0.2870)\n",
            "train Epoch: [0][123/160]\tBatchTime  1.803 ( 4.371)\tDataTime  0.003 ( 2.573)\tLoss 0.4857 (0.7111)\tAcc 0.5143 (0.2889)\n",
            "train Epoch: [0][124/160]\tBatchTime  5.654 ( 4.381)\tDataTime  3.764 ( 2.582)\tLoss 0.4647 (0.7091)\tAcc 0.5353 (0.2909)\n",
            "train Epoch: [0][125/160]\tBatchTime  1.873 ( 4.361)\tDataTime  0.003 ( 2.562)\tLoss 0.4437 (0.7070)\tAcc 0.5563 (0.2930)\n",
            "train Epoch: [0][126/160]\tBatchTime  6.376 ( 4.377)\tDataTime  4.519 ( 2.577)\tLoss 0.7701 (0.7075)\tAcc 0.2299 (0.2925)\n",
            "train Epoch: [0][127/160]\tBatchTime  1.887 ( 4.358)\tDataTime  0.022 ( 2.557)\tLoss 0.7491 (0.7078)\tAcc 0.2509 (0.2922)\n",
            "train Epoch: [0][128/160]\tBatchTime  5.930 ( 4.370)\tDataTime  4.004 ( 2.568)\tLoss 0.6449 (0.7073)\tAcc 0.3551 (0.2927)\n",
            "train Epoch: [0][129/160]\tBatchTime  1.719 ( 4.349)\tDataTime  0.005 ( 2.549)\tLoss 0.5371 (0.7060)\tAcc 0.4629 (0.2940)\n",
            "train Epoch: [0][130/160]\tBatchTime  6.302 ( 4.364)\tDataTime  4.381 ( 2.563)\tLoss 0.5784 (0.7050)\tAcc 0.4216 (0.2950)\n",
            "train Epoch: [0][131/160]\tBatchTime  1.722 ( 4.344)\tDataTime  0.003 ( 2.543)\tLoss 0.5304 (0.7037)\tAcc 0.4696 (0.2963)\n",
            "train Epoch: [0][132/160]\tBatchTime  5.828 ( 4.355)\tDataTime  3.905 ( 2.553)\tLoss 0.6240 (0.7031)\tAcc 0.3760 (0.2969)\n",
            "train Epoch: [0][133/160]\tBatchTime  1.798 ( 4.336)\tDataTime  0.003 ( 2.534)\tLoss 0.5286 (0.7018)\tAcc 0.4714 (0.2982)\n",
            "train Epoch: [0][134/160]\tBatchTime  5.164 ( 4.342)\tDataTime  3.236 ( 2.539)\tLoss 0.4442 (0.6999)\tAcc 0.5558 (0.3001)\n",
            "train Epoch: [0][135/160]\tBatchTime  1.808 ( 4.324)\tDataTime  0.003 ( 2.521)\tLoss 0.6307 (0.6994)\tAcc 0.3693 (0.3006)\n",
            "train Epoch: [0][136/160]\tBatchTime  6.555 ( 4.340)\tDataTime  4.629 ( 2.536)\tLoss 0.7669 (0.6999)\tAcc 0.2331 (0.3001)\n",
            "train Epoch: [0][137/160]\tBatchTime  1.800 ( 4.321)\tDataTime  0.003 ( 2.518)\tLoss 0.3857 (0.6976)\tAcc 0.6143 (0.3024)\n",
            "train Epoch: [0][138/160]\tBatchTime  5.788 ( 4.332)\tDataTime  3.956 ( 2.528)\tLoss 0.5678 (0.6966)\tAcc 0.4322 (0.3034)\n",
            "train Epoch: [0][139/160]\tBatchTime  1.804 ( 4.314)\tDataTime  0.003 ( 2.510)\tLoss 0.4671 (0.6950)\tAcc 0.5329 (0.3050)\n",
            "train Epoch: [0][140/160]\tBatchTime  7.425 ( 4.336)\tDataTime  5.516 ( 2.531)\tLoss 0.3349 (0.6924)\tAcc 0.6651 (0.3076)\n",
            "train Epoch: [0][141/160]\tBatchTime  1.821 ( 4.318)\tDataTime  0.003 ( 2.514)\tLoss 0.6318 (0.6920)\tAcc 0.3682 (0.3080)\n",
            "train Epoch: [0][142/160]\tBatchTime  5.136 ( 4.324)\tDataTime  3.224 ( 2.519)\tLoss 0.4555 (0.6903)\tAcc 0.5445 (0.3097)\n",
            "train Epoch: [0][143/160]\tBatchTime  1.802 ( 4.306)\tDataTime  0.003 ( 2.501)\tLoss 0.6492 (0.6900)\tAcc 0.3508 (0.3100)\n",
            "train Epoch: [0][144/160]\tBatchTime  6.743 ( 4.323)\tDataTime  4.833 ( 2.517)\tLoss 0.4706 (0.6885)\tAcc 0.5294 (0.3115)\n",
            "train Epoch: [0][145/160]\tBatchTime  1.733 ( 4.305)\tDataTime  0.003 ( 2.500)\tLoss 0.6455 (0.6882)\tAcc 0.3545 (0.3118)\n",
            "train Epoch: [0][146/160]\tBatchTime  6.080 ( 4.318)\tDataTime  4.169 ( 2.511)\tLoss 0.4199 (0.6864)\tAcc 0.5801 (0.3136)\n",
            "train Epoch: [0][147/160]\tBatchTime  1.805 ( 4.301)\tDataTime  0.003 ( 2.494)\tLoss 0.4715 (0.6849)\tAcc 0.5285 (0.3151)\n",
            "train Epoch: [0][148/160]\tBatchTime  6.184 ( 4.313)\tDataTime  4.262 ( 2.506)\tLoss 0.5129 (0.6837)\tAcc 0.4871 (0.3163)\n",
            "Traceback (most recent call last):\n",
            "  File \"/usr/lib/python3.7/runpy.py\", line 193, in _run_module_as_main\n",
            "    \"__main__\", mod_spec)\n",
            "  File \"/usr/lib/python3.7/runpy.py\", line 85, in _run_code\n",
            "    exec(code, run_globals)\n",
            "  File \"/content/Graduation/src/train.py\", line 407, in <module>\n",
            "    main(arguments)\n",
            "  File \"/content/Graduation/src/train.py\", line 210, in main\n",
            "    patients_perf=patients_perf)\n",
            "  File \"/content/Graduation/src/train.py\", line 376, in step\n",
            "    scaler.step(optimizer)\n",
            "  File \"/usr/local/lib/python3.7/dist-packages/torch/cuda/amp/grad_scaler.py\", line 338, in step\n",
            "    retval = self._maybe_opt_step(optimizer, optimizer_state, *args, **kwargs)\n",
            "  File \"/usr/local/lib/python3.7/dist-packages/torch/cuda/amp/grad_scaler.py\", line 284, in _maybe_opt_step\n",
            "    if not sum(v.item() for v in optimizer_state[\"found_inf_per_device\"].values()):\n",
            "  File \"/usr/local/lib/python3.7/dist-packages/torch/cuda/amp/grad_scaler.py\", line 284, in <genexpr>\n",
            "    if not sum(v.item() for v in optimizer_state[\"found_inf_per_device\"].values()):\n",
            "KeyboardInterrupt\n"
          ]
        }
      ],
      "source": [
        "%cd /content/Graduation\n",
        "!rm -rf \"Graduation/runs\"  # 删除之前的runs文件夹\n",
        "# !python -m src.train --width 48 --arch Atten_Unet --epochs 150 --debug --optim adam # debug 用\n",
        "!python -m src.train --width 48 --arch Atten_Unet --epochs 150 --optim adam # 使用 Atten_Unet\n",
        "# !python -m src.train --width 48 --arch Unet --epochs 150 --optim adam # 使用 Unet"
      ]
    },
    {
      "cell_type": "markdown",
      "metadata": {
        "id": "Q5g4TnayI3Y1"
      },
      "source": [
        "# 打包并下载runs文件夹 （包含Traning & Validation结果 + Tensorboard图像+ segmentations nii文件）"
      ]
    },
    {
      "cell_type": "code",
      "execution_count": null,
      "metadata": {
        "colab": {
          "background_save": true
        },
        "id": "Sih05-j8wAY7",
        "outputId": "59de1b0a-b23b-4784-a4dd-3eea90f47467"
      },
      "outputs": [
        {
          "data": {
            "application/javascript": [
              "\n",
              "    async function download(id, filename, size) {\n",
              "      if (!google.colab.kernel.accessAllowed) {\n",
              "        return;\n",
              "      }\n",
              "      const div = document.createElement('div');\n",
              "      const label = document.createElement('label');\n",
              "      label.textContent = `Downloading \"${filename}\": `;\n",
              "      div.appendChild(label);\n",
              "      const progress = document.createElement('progress');\n",
              "      progress.max = size;\n",
              "      div.appendChild(progress);\n",
              "      document.body.appendChild(div);\n",
              "\n",
              "      const buffers = [];\n",
              "      let downloaded = 0;\n",
              "\n",
              "      const channel = await google.colab.kernel.comms.open(id);\n",
              "      // Send a message to notify the kernel that we're ready.\n",
              "      channel.send({})\n",
              "\n",
              "      for await (const message of channel.messages) {\n",
              "        // Send a message to notify the kernel that we're ready.\n",
              "        channel.send({})\n",
              "        if (message.buffers) {\n",
              "          for (const buffer of message.buffers) {\n",
              "            buffers.push(buffer);\n",
              "            downloaded += buffer.byteLength;\n",
              "            progress.value = downloaded;\n",
              "          }\n",
              "        }\n",
              "      }\n",
              "      const blob = new Blob(buffers, {type: 'application/binary'});\n",
              "      const a = document.createElement('a');\n",
              "      a.href = window.URL.createObjectURL(blob);\n",
              "      a.download = filename;\n",
              "      div.appendChild(a);\n",
              "      a.click();\n",
              "      div.remove();\n",
              "    }\n",
              "  "
            ],
            "text/plain": [
              "<IPython.core.display.Javascript object>"
            ]
          },
          "metadata": {},
          "output_type": "display_data"
        },
        {
          "data": {
            "application/javascript": [
              "download(\"download_d8294f33-a705-4784-9391-139e72234d0a\", \"runs.tar\", 239421440)"
            ],
            "text/plain": [
              "<IPython.core.display.Javascript object>"
            ]
          },
          "metadata": {},
          "output_type": "display_data"
        }
      ],
      "source": [
        "# 打包并下载\n",
        "import os, tarfile\n",
        "from google.colab import files\n",
        " \n",
        "#逐个添加文件打包，未打包空子目录。可过滤文件。\n",
        "#如果只打包不压缩，将\"w:gz\"参数改为\"w:\"或\"w\"即可。\n",
        "def make_targz_one_by_one(output_filename, source_dir):\n",
        "  tar = tarfile.open(output_filename,\"w\")\n",
        "  for root,dir_name,files_list in os.walk(source_dir):\n",
        "    for file in files_list:\n",
        "      pathfile = os.path.join(root, file)\n",
        "      tar.add(pathfile)\n",
        "  tar.close()\n",
        " \n",
        "  files.download(output_filename)\n",
        "\n",
        "make_targz_one_by_one('runs.tar', '/content/Graduation/runs') "
      ]
    },
    {
      "cell_type": "markdown",
      "metadata": {
        "id": "OD7qYqQvUdez"
      },
      "source": [
        "# Testing (用额外的testing dataset -- 无seg.nii)"
      ]
    },
    {
      "cell_type": "code",
      "execution_count": null,
      "metadata": {
        "colab": {
          "background_save": true
        },
        "id": "k_gRMO2aUbAk",
        "outputId": "263a9bdc-c9fe-468c-827d-3eea7268607b"
      },
      "outputs": [
        {
          "name": "stdout",
          "output_type": "stream",
          "text": [
            "/content/Graduation\n",
            "Working with 1 GPUs\n",
            "config file:  /content/Graduation/runs/20220409_051731__fold0_Atten_Unet_48_batch1_optimadam_adam_lr0.0001-wd0.0_epochs150_deepsupFalse_fp16_warm3__normgroup_dropout0.0_warm_restartFalse/20220409_051731__fold0_Atten_Unet_48_batch1_optimadam_adam_lr0.0001-wd0.0_epochs150_deepsupFalse_fp16_warm3__normgroup_dropout0.0_warm_restartFalse.yaml\n",
            "old args:  namespace(arch='Atten_Unet', batch_size=1, ckpt=PosixPath('/content/Graduation/runs/20220409_051731__fold0_Atten_Unet_48_batch1_optimadam_adam_lr0.0001-wd0.0_epochs150_deepsupFalse_fp16_warm3__normgroup_dropout0.0_warm_restartFalse/model_best.pth.tar'), com=None, debug=False, deep_sup=False, dropout=0.0, epochs=150, exp_name='20220409_051731__fold0_Atten_Unet_48_batch1_optimadam_adam_lr0.0001-wd0.0_epochs150_deepsupFalse_fp16_warm3__normgroup_dropout0.0_warm_restartFalse', fold=0, full=False, lr=0.0001, no_fp16=False, norm_layer='group', normalisation='minmax', optim='adam', resume='', seed=16111990, start_epoch=0, swa=False, swa_repeat=5, val=3, warm=3, warm_restart=False, weight_decay=0.0, width=48, workers=2)\n",
            "invalid literal for int() with base 10: ''\n",
            "using default group number\n",
            "model features:  [48, 96, 192, 384]\n",
            "Creating Atten_Unet\n",
            "=> loading checkpoint /content/Graduation/runs/20220409_051731__fold0_Atten_Unet_48_batch1_optimadam_adam_lr0.0001-wd0.0_epochs150_deepsupFalse_fp16_warm3__normgroup_dropout0.0_warm_restartFalse/model_best.pth.tar\n",
            "=> loaded checkpoint '/content/Graduation/runs/20220409_051731__fold0_Atten_Unet_48_batch1_optimadam_adam_lr0.0001-wd0.0_epochs150_deepsupFalse_fp16_warm3__normgroup_dropout0.0_warm_restartFalse/model_best.pth.tar' (epoch 150)\n",
            "reload best weights\n",
            "val dataset path : /content/drive/My Drive/Dataset/BraTS2020_ValidationData/MICCAI_BraTS2020_ValidationData\n",
            "\n",
            "val dataset path : /content/drive/My Drive/Dataset/BraTS2020_ValidationData/MICCAI_BraTS2020_ValidationData\n",
            "\n",
            "Val dataset number of batch:  30\n",
            "pad过的batch shape:  torch.Size([1, 4, 140, 187, 134])\n",
            "pad过的batch shape:  torch.Size([1, 4, 140, 187, 134])\n",
            "Writing new segmentation as preds/20220409_160319/validation_segs_ttaTrue/BraTS20_Validation_001.nii.gz\n",
            "pad过的batch shape:  torch.Size([1, 4, 142, 191, 144])\n",
            "pad过的batch shape:  torch.Size([1, 4, 142, 191, 144])\n",
            "Writing new segmentation as preds/20220409_160319/validation_segs_ttaTrue/BraTS20_Validation_002.nii.gz\n",
            "pad过的batch shape:  torch.Size([1, 4, 140, 166, 126])\n",
            "pad过的batch shape:  torch.Size([1, 4, 140, 166, 126])\n",
            "Writing new segmentation as preds/20220409_160319/validation_segs_ttaTrue/BraTS20_Validation_003.nii.gz\n",
            "pad过的batch shape:  torch.Size([1, 4, 139, 181, 133])\n",
            "pad过的batch shape:  torch.Size([1, 4, 139, 181, 133])\n",
            "Writing new segmentation as preds/20220409_160319/validation_segs_ttaTrue/BraTS20_Validation_004.nii.gz\n",
            "pad过的batch shape:  torch.Size([1, 4, 139, 164, 148])\n",
            "pad过的batch shape:  torch.Size([1, 4, 139, 164, 148])\n",
            "Writing new segmentation as preds/20220409_160319/validation_segs_ttaTrue/BraTS20_Validation_005.nii.gz\n",
            "pad过的batch shape:  torch.Size([1, 4, 143, 175, 134])\n",
            "pad过的batch shape:  torch.Size([1, 4, 143, 175, 134])\n",
            "Writing new segmentation as preds/20220409_160319/validation_segs_ttaTrue/BraTS20_Validation_006.nii.gz\n",
            "pad过的batch shape:  torch.Size([1, 4, 138, 168, 139])\n",
            "pad过的batch shape:  torch.Size([1, 4, 138, 168, 139])\n",
            "Writing new segmentation as preds/20220409_160319/validation_segs_ttaTrue/BraTS20_Validation_007.nii.gz\n",
            "pad过的batch shape:  torch.Size([1, 4, 141, 180, 137])\n",
            "pad过的batch shape:  torch.Size([1, 4, 141, 180, 137])\n",
            "Writing new segmentation as preds/20220409_160319/validation_segs_ttaTrue/BraTS20_Validation_008.nii.gz\n",
            "pad过的batch shape:  torch.Size([1, 4, 143, 181, 137])\n",
            "pad过的batch shape:  torch.Size([1, 4, 143, 181, 137])\n",
            "Writing new segmentation as preds/20220409_160319/validation_segs_ttaTrue/BraTS20_Validation_009.nii.gz\n",
            "pad过的batch shape:  torch.Size([1, 4, 146, 177, 136])\n",
            "pad过的batch shape:  torch.Size([1, 4, 146, 177, 136])\n",
            "Writing new segmentation as preds/20220409_160319/validation_segs_ttaTrue/BraTS20_Validation_010.nii.gz\n",
            "pad过的batch shape:  torch.Size([1, 4, 138, 161, 123])\n",
            "pad过的batch shape:  torch.Size([1, 4, 138, 161, 123])\n",
            "Writing new segmentation as preds/20220409_160319/validation_segs_ttaTrue/BraTS20_Validation_011.nii.gz\n",
            "pad过的batch shape:  torch.Size([1, 4, 141, 186, 140])\n",
            "pad过的batch shape:  torch.Size([1, 4, 141, 186, 140])\n",
            "Writing new segmentation as preds/20220409_160319/validation_segs_ttaTrue/BraTS20_Validation_012.nii.gz\n",
            "pad过的batch shape:  torch.Size([1, 4, 145, 171, 137])\n",
            "pad过的batch shape:  torch.Size([1, 4, 145, 171, 137])\n",
            "Writing new segmentation as preds/20220409_160319/validation_segs_ttaTrue/BraTS20_Validation_013.nii.gz\n",
            "pad过的batch shape:  torch.Size([1, 4, 138, 168, 145])\n",
            "pad过的batch shape:  torch.Size([1, 4, 138, 168, 145])\n",
            "Writing new segmentation as preds/20220409_160319/validation_segs_ttaTrue/BraTS20_Validation_014.nii.gz\n",
            "pad过的batch shape:  torch.Size([1, 4, 144, 172, 138])\n",
            "pad过的batch shape:  torch.Size([1, 4, 144, 172, 138])\n",
            "Writing new segmentation as preds/20220409_160319/validation_segs_ttaTrue/BraTS20_Validation_015.nii.gz\n",
            "pad过的batch shape:  torch.Size([1, 4, 137, 178, 165])\n",
            "pad过的batch shape:  torch.Size([1, 4, 137, 178, 165])\n",
            "Writing new segmentation as preds/20220409_160319/validation_segs_ttaTrue/BraTS20_Validation_016.nii.gz\n",
            "pad过的batch shape:  torch.Size([1, 4, 139, 175, 139])\n",
            "pad过的batch shape:  torch.Size([1, 4, 139, 175, 139])\n",
            "Writing new segmentation as preds/20220409_160319/validation_segs_ttaTrue/BraTS20_Validation_017.nii.gz\n",
            "pad过的batch shape:  torch.Size([1, 4, 144, 178, 132])\n",
            "pad过的batch shape:  torch.Size([1, 4, 144, 178, 132])\n",
            "Writing new segmentation as preds/20220409_160319/validation_segs_ttaTrue/BraTS20_Validation_018.nii.gz\n",
            "pad过的batch shape:  torch.Size([1, 4, 137, 158, 124])\n",
            "pad过的batch shape:  torch.Size([1, 4, 137, 158, 124])\n",
            "Writing new segmentation as preds/20220409_160319/validation_segs_ttaTrue/BraTS20_Validation_019.nii.gz\n",
            "pad过的batch shape:  torch.Size([1, 4, 140, 169, 126])\n",
            "pad过的batch shape:  torch.Size([1, 4, 140, 169, 126])\n",
            "Writing new segmentation as preds/20220409_160319/validation_segs_ttaTrue/BraTS20_Validation_020.nii.gz\n",
            "pad过的batch shape:  torch.Size([1, 4, 140, 171, 130])\n",
            "pad过的batch shape:  torch.Size([1, 4, 140, 171, 130])\n",
            "Writing new segmentation as preds/20220409_160319/validation_segs_ttaTrue/BraTS20_Validation_021.nii.gz\n",
            "pad过的batch shape:  torch.Size([1, 4, 136, 180, 141])\n",
            "pad过的batch shape:  torch.Size([1, 4, 136, 180, 141])\n",
            "Writing new segmentation as preds/20220409_160319/validation_segs_ttaTrue/BraTS20_Validation_022.nii.gz\n",
            "pad过的batch shape:  torch.Size([1, 4, 137, 173, 134])\n",
            "pad过的batch shape:  torch.Size([1, 4, 137, 173, 134])\n",
            "Writing new segmentation as preds/20220409_160319/validation_segs_ttaTrue/BraTS20_Validation_023.nii.gz\n",
            "pad过的batch shape:  torch.Size([1, 4, 139, 166, 153])\n",
            "pad过的batch shape:  torch.Size([1, 4, 139, 166, 153])\n",
            "Writing new segmentation as preds/20220409_160319/validation_segs_ttaTrue/BraTS20_Validation_024.nii.gz\n",
            "pad过的batch shape:  torch.Size([1, 4, 136, 179, 139])\n",
            "pad过的batch shape:  torch.Size([1, 4, 136, 179, 139])\n",
            "Writing new segmentation as preds/20220409_160319/validation_segs_ttaTrue/BraTS20_Validation_025.nii.gz\n",
            "pad过的batch shape:  torch.Size([1, 4, 133, 161, 133])\n",
            "pad过的batch shape:  torch.Size([1, 4, 133, 161, 133])\n",
            "Writing new segmentation as preds/20220409_160319/validation_segs_ttaTrue/BraTS20_Validation_026.nii.gz\n",
            "pad过的batch shape:  torch.Size([1, 4, 136, 169, 139])\n",
            "pad过的batch shape:  torch.Size([1, 4, 139, 169, 139])\n",
            "Writing new segmentation as preds/20220409_160319/validation_segs_ttaTrue/BraTS20_Validation_027.nii.gz\n",
            "pad过的batch shape:  torch.Size([1, 4, 141, 176, 136])\n",
            "pad过的batch shape:  torch.Size([1, 4, 141, 176, 136])\n",
            "Writing new segmentation as preds/20220409_160319/validation_segs_ttaTrue/BraTS20_Validation_028.nii.gz\n",
            "pad过的batch shape:  torch.Size([1, 4, 133, 183, 143])\n",
            "pad过的batch shape:  torch.Size([1, 4, 133, 183, 143])\n",
            "Writing new segmentation as preds/20220409_160319/validation_segs_ttaTrue/BraTS20_Validation_029.nii.gz\n",
            "pad过的batch shape:  torch.Size([1, 4, 138, 179, 138])\n",
            "pad过的batch shape:  torch.Size([1, 4, 138, 179, 138])\n",
            "Writing new segmentation as preds/20220409_160319/validation_segs_ttaTrue/BraTS20_Validation_030.nii.gz\n"
          ]
        }
      ],
      "source": [
        "%cd /content/Graduation\n",
        "# 需要改改yaml地址，注意！！下面是个例子\n",
        "!python -m src.test --config \"/content/Graduation/runs/20220409_051731__fold0_Atten_Unet_48_batch1_optimadam_adam_lr0.0001-wd0.0_epochs150_deepsupFalse_fp16_warm3__normgroup_dropout0.0_warm_restartFalse/20220409_051731__fold0_Atten_Unet_48_batch1_optimadam_adam_lr0.0001-wd0.0_epochs150_deepsupFalse_fp16_warm3__normgroup_dropout0.0_warm_restartFalse.yaml\" --devices 0 --mode val  \n"
      ]
    },
    {
      "cell_type": "markdown",
      "metadata": {
        "id": "HGRH8MkkIPEh"
      },
      "source": [
        "# Tensorboard"
      ]
    },
    {
      "cell_type": "code",
      "execution_count": null,
      "metadata": {
        "id": "5L4uAobbLLwR"
      },
      "outputs": [],
      "source": [
        "# 先安装Tensorborad X\n",
        "!pip install tensorboardX"
      ]
    },
    {
      "cell_type": "code",
      "execution_count": null,
      "metadata": {
        "id": "_0T1mnLnKpVl"
      },
      "outputs": [],
      "source": [
        "# 查看Tensorboard图像\n",
        "%load_ext tensorboard\n",
        "%tensorboard --logdir \"/content/Graduation/runs\""
      ]
    },
    {
      "cell_type": "markdown",
      "metadata": {
        "id": "6P9GLRCwIxkC"
      },
      "source": [
        "# 打包并下载preds 文件夹 （包含testing dataset 40个预测结果 segmentations nii文件）"
      ]
    },
    {
      "cell_type": "code",
      "execution_count": null,
      "metadata": {
        "colab": {
          "background_save": true
        },
        "id": "6-wc4zvmBJvZ",
        "outputId": "1f502040-2e41-49fb-9a18-11c02c09dfbd"
      },
      "outputs": [
        {
          "data": {
            "application/javascript": [
              "\n",
              "    async function download(id, filename, size) {\n",
              "      if (!google.colab.kernel.accessAllowed) {\n",
              "        return;\n",
              "      }\n",
              "      const div = document.createElement('div');\n",
              "      const label = document.createElement('label');\n",
              "      label.textContent = `Downloading \"${filename}\": `;\n",
              "      div.appendChild(label);\n",
              "      const progress = document.createElement('progress');\n",
              "      progress.max = size;\n",
              "      div.appendChild(progress);\n",
              "      document.body.appendChild(div);\n",
              "\n",
              "      const buffers = [];\n",
              "      let downloaded = 0;\n",
              "\n",
              "      const channel = await google.colab.kernel.comms.open(id);\n",
              "      // Send a message to notify the kernel that we're ready.\n",
              "      channel.send({})\n",
              "\n",
              "      for await (const message of channel.messages) {\n",
              "        // Send a message to notify the kernel that we're ready.\n",
              "        channel.send({})\n",
              "        if (message.buffers) {\n",
              "          for (const buffer of message.buffers) {\n",
              "            buffers.push(buffer);\n",
              "            downloaded += buffer.byteLength;\n",
              "            progress.value = downloaded;\n",
              "          }\n",
              "        }\n",
              "      }\n",
              "      const blob = new Blob(buffers, {type: 'application/binary'});\n",
              "      const a = document.createElement('a');\n",
              "      a.href = window.URL.createObjectURL(blob);\n",
              "      a.download = filename;\n",
              "      div.appendChild(a);\n",
              "      a.click();\n",
              "      div.remove();\n",
              "    }\n",
              "  "
            ],
            "text/plain": [
              "<IPython.core.display.Javascript object>"
            ]
          },
          "metadata": {},
          "output_type": "display_data"
        },
        {
          "data": {
            "application/javascript": [
              "download(\"download_73e2b4c9-81ce-442a-bb41-1151dc5c3404\", \"preds.tar\", 5509120)"
            ],
            "text/plain": [
              "<IPython.core.display.Javascript object>"
            ]
          },
          "metadata": {},
          "output_type": "display_data"
        }
      ],
      "source": [
        "# 打包并下载\n",
        "import os, tarfile\n",
        "from google.colab import files\n",
        " \n",
        "#逐个添加文件打包，未打包空子目录。可过滤文件。\n",
        "#如果只打包不压缩，将\"w:gz\"参数改为\"w:\"或\"w\"即可。\n",
        "def make_targz_one_by_one(output_filename, source_dir):\n",
        "  tar = tarfile.open(output_filename,\"w\")\n",
        "  for root,dir_name,files_list in os.walk(source_dir):\n",
        "    for file in files_list:\n",
        "      pathfile = os.path.join(root, file)\n",
        "      tar.add(pathfile)\n",
        "  tar.close()\n",
        " \n",
        "  files.download(output_filename)\n",
        "\n",
        "make_targz_one_by_one('preds.tar', '/content/Graduation/preds') "
      ]
    }
  ],
  "metadata": {
    "accelerator": "GPU",
    "colab": {
      "collapsed_sections": [],
      "name": "Graduation_run on Google Colab.ipynb",
      "provenance": [],
      "toc_visible": true
    },
    "kernelspec": {
      "display_name": "Python 3",
      "name": "python3"
    },
    "language_info": {
      "name": "python"
    }
  },
  "nbformat": 4,
  "nbformat_minor": 0
}